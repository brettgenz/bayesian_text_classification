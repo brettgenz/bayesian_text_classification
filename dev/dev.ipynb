{
 "cells": [
  {
   "cell_type": "code",
   "execution_count": 26,
   "metadata": {},
   "outputs": [],
   "source": [
    "import pymc as pm\n",
    "import numpy as np\n",
    "import pandas as pd"
   ]
  },
  {
   "cell_type": "code",
   "execution_count": 27,
   "metadata": {},
   "outputs": [],
   "source": [
    "df = pd.read_parquet('./../data/processed/bioasq_embeddings_subset.parquet')"
   ]
  },
  {
   "cell_type": "code",
   "execution_count": 28,
   "metadata": {},
   "outputs": [
    {
     "data": {
      "text/html": [
       "<div>\n",
       "<style scoped>\n",
       "    .dataframe tbody tr th:only-of-type {\n",
       "        vertical-align: middle;\n",
       "    }\n",
       "\n",
       "    .dataframe tbody tr th {\n",
       "        vertical-align: top;\n",
       "    }\n",
       "\n",
       "    .dataframe thead th {\n",
       "        text-align: right;\n",
       "    }\n",
       "</style>\n",
       "<table border=\"1\" class=\"dataframe\">\n",
       "  <thead>\n",
       "    <tr style=\"text-align: right;\">\n",
       "      <th></th>\n",
       "      <th>question</th>\n",
       "      <th>abstract</th>\n",
       "      <th>embedding</th>\n",
       "      <th>label</th>\n",
       "    </tr>\n",
       "  </thead>\n",
       "  <tbody>\n",
       "    <tr>\n",
       "      <th>107</th>\n",
       "      <td>Is triadin involved in cardiac function?</td>\n",
       "      <td>The present study characterized platelet secre...</td>\n",
       "      <td>[-0.018480617552995682, -0.02080404758453369, ...</td>\n",
       "      <td>0</td>\n",
       "    </tr>\n",
       "    <tr>\n",
       "      <th>70</th>\n",
       "      <td>What is the mode of action of Hsp90 inhibitors?</td>\n",
       "      <td>Securin, the natural inhibitor of sister chrom...</td>\n",
       "      <td>[-0.03002260811626911, -0.020200053229928017, ...</td>\n",
       "      <td>1</td>\n",
       "    </tr>\n",
       "    <tr>\n",
       "      <th>183</th>\n",
       "      <td>Show results of randomised controlled trials f...</td>\n",
       "      <td>U12-dependent introns are found in small numbe...</td>\n",
       "      <td>[-0.021262995898723602, -0.00829990953207016, ...</td>\n",
       "      <td>0</td>\n",
       "    </tr>\n",
       "    <tr>\n",
       "      <th>83</th>\n",
       "      <td>Which are the major phycobiliproteins present ...</td>\n",
       "      <td>Marine Synechococcus owe their specific vivid ...</td>\n",
       "      <td>[0.007306801155209541, -0.008922409266233444, ...</td>\n",
       "      <td>1</td>\n",
       "    </tr>\n",
       "    <tr>\n",
       "      <th>37</th>\n",
       "      <td>Which is the molecular mechanism underlying K-...</td>\n",
       "      <td>Activating mutations in one allele of an oncog...</td>\n",
       "      <td>[-0.03104834072291851, -0.007924200966954231, ...</td>\n",
       "      <td>1</td>\n",
       "    </tr>\n",
       "    <tr>\n",
       "      <th>12</th>\n",
       "      <td>Alpha-spectrin and beta-spectrin subunits form...</td>\n",
       "      <td>Spectrins comprise α- and β-subunits made up p...</td>\n",
       "      <td>[-0.01383965089917183, -0.0024498256389051676,...</td>\n",
       "      <td>1</td>\n",
       "    </tr>\n",
       "    <tr>\n",
       "      <th>180</th>\n",
       "      <td>Show results of randomised controlled trials f...</td>\n",
       "      <td>U12-type introns are spliced by the U12-depend...</td>\n",
       "      <td>[-0.02529621124267578, -0.019980140030384064, ...</td>\n",
       "      <td>0</td>\n",
       "    </tr>\n",
       "    <tr>\n",
       "      <th>93</th>\n",
       "      <td>Which are the major phycobiliproteins present ...</td>\n",
       "      <td>CD99 is a 32-kDa transmembrane glycoprotein th...</td>\n",
       "      <td>[-0.009119701571762562, -0.018726665526628494,...</td>\n",
       "      <td>0</td>\n",
       "    </tr>\n",
       "    <tr>\n",
       "      <th>71</th>\n",
       "      <td>What is the mode of action of Hsp90 inhibitors?</td>\n",
       "      <td>Type II DNA topoisomerases have been classifie...</td>\n",
       "      <td>[-0.024701721966266632, -0.009635567665100098,...</td>\n",
       "      <td>1</td>\n",
       "    </tr>\n",
       "    <tr>\n",
       "      <th>23</th>\n",
       "      <td>Alpha-spectrin and beta-spectrin subunits form...</td>\n",
       "      <td>In view of the early results and halt of recru...</td>\n",
       "      <td>[-0.017331626266241074, 0.001193725736811757, ...</td>\n",
       "      <td>0</td>\n",
       "    </tr>\n",
       "  </tbody>\n",
       "</table>\n",
       "</div>"
      ],
      "text/plain": [
       "                                              question  \\\n",
       "107           Is triadin involved in cardiac function?   \n",
       "70     What is the mode of action of Hsp90 inhibitors?   \n",
       "183  Show results of randomised controlled trials f...   \n",
       "83   Which are the major phycobiliproteins present ...   \n",
       "37   Which is the molecular mechanism underlying K-...   \n",
       "12   Alpha-spectrin and beta-spectrin subunits form...   \n",
       "180  Show results of randomised controlled trials f...   \n",
       "93   Which are the major phycobiliproteins present ...   \n",
       "71     What is the mode of action of Hsp90 inhibitors?   \n",
       "23   Alpha-spectrin and beta-spectrin subunits form...   \n",
       "\n",
       "                                              abstract  \\\n",
       "107  The present study characterized platelet secre...   \n",
       "70   Securin, the natural inhibitor of sister chrom...   \n",
       "183  U12-dependent introns are found in small numbe...   \n",
       "83   Marine Synechococcus owe their specific vivid ...   \n",
       "37   Activating mutations in one allele of an oncog...   \n",
       "12   Spectrins comprise α- and β-subunits made up p...   \n",
       "180  U12-type introns are spliced by the U12-depend...   \n",
       "93   CD99 is a 32-kDa transmembrane glycoprotein th...   \n",
       "71   Type II DNA topoisomerases have been classifie...   \n",
       "23   In view of the early results and halt of recru...   \n",
       "\n",
       "                                             embedding  label  \n",
       "107  [-0.018480617552995682, -0.02080404758453369, ...      0  \n",
       "70   [-0.03002260811626911, -0.020200053229928017, ...      1  \n",
       "183  [-0.021262995898723602, -0.00829990953207016, ...      0  \n",
       "83   [0.007306801155209541, -0.008922409266233444, ...      1  \n",
       "37   [-0.03104834072291851, -0.007924200966954231, ...      1  \n",
       "12   [-0.01383965089917183, -0.0024498256389051676,...      1  \n",
       "180  [-0.02529621124267578, -0.019980140030384064, ...      0  \n",
       "93   [-0.009119701571762562, -0.018726665526628494,...      0  \n",
       "71   [-0.024701721966266632, -0.009635567665100098,...      1  \n",
       "23   [-0.017331626266241074, 0.001193725736811757, ...      0  "
      ]
     },
     "execution_count": 28,
     "metadata": {},
     "output_type": "execute_result"
    }
   ],
   "source": [
    "df.sample(10)"
   ]
  },
  {
   "cell_type": "code",
   "execution_count": 29,
   "metadata": {},
   "outputs": [
    {
     "data": {
      "text/plain": [
       "label\n",
       "1    104\n",
       "0    102\n",
       "Name: count, dtype: int64"
      ]
     },
     "execution_count": 29,
     "metadata": {},
     "output_type": "execute_result"
    }
   ],
   "source": [
    "df['label'].value_counts()"
   ]
  },
  {
   "cell_type": "code",
   "execution_count": 30,
   "metadata": {},
   "outputs": [
    {
     "data": {
      "text/plain": [
       "206"
      ]
     },
     "execution_count": 30,
     "metadata": {},
     "output_type": "execute_result"
    }
   ],
   "source": [
    "len(df)"
   ]
  },
  {
   "cell_type": "code",
   "execution_count": 33,
   "metadata": {},
   "outputs": [],
   "source": [
    "X = np.array(df['embedding'])"
   ]
  },
  {
   "cell_type": "code",
   "execution_count": 32,
   "metadata": {},
   "outputs": [
    {
     "ename": "IndexError",
     "evalue": "tuple index out of range",
     "output_type": "error",
     "traceback": [
      "\u001b[31m---------------------------------------------------------------------------\u001b[39m",
      "\u001b[31mIndexError\u001b[39m                                Traceback (most recent call last)",
      "\u001b[36mCell\u001b[39m\u001b[36m \u001b[39m\u001b[32mIn[32]\u001b[39m\u001b[32m, line 3\u001b[39m\n\u001b[32m      1\u001b[39m \u001b[38;5;28;01mwith\u001b[39;00m pm.Model() \u001b[38;5;28;01mas\u001b[39;00m logistic_model:\n\u001b[32m      2\u001b[39m     \u001b[38;5;66;03m# establish priors for coefficients\u001b[39;00m\n\u001b[32m----> \u001b[39m\u001b[32m3\u001b[39m     coefficients = pm.Normal(\u001b[33m'\u001b[39m\u001b[33mcoefficient\u001b[39m\u001b[33m'\u001b[39m, mu=\u001b[32m0\u001b[39m, sigma=\u001b[32m1\u001b[39m, shape=\u001b[43mX\u001b[49m\u001b[43m.\u001b[49m\u001b[43mshape\u001b[49m\u001b[43m[\u001b[49m\u001b[32;43m1\u001b[39;49m\u001b[43m]\u001b[49m)\n\u001b[32m      4\u001b[39m     intercept = pm.Normal(\u001b[33m'\u001b[39m\u001b[33mintercept\u001b[39m\u001b[33m'\u001b[39m, mu=\u001b[32m0\u001b[39m, sigma=\u001b[32m1\u001b[39m)\n\u001b[32m      6\u001b[39m     \u001b[38;5;66;03m# linear combinatino (logits)\u001b[39;00m\n",
      "\u001b[31mIndexError\u001b[39m: tuple index out of range"
     ]
    }
   ],
   "source": [
    "with pm.Model() as logistic_model:\n",
    "    # establish priors for coefficients\n",
    "    coefficients = pm.Normal('coefficient', mu=0, sigma=1, shape=X.shape[1])\n",
    "    intercept = pm.Normal('intercept', mu=0, sigma=1)\n",
    "\n",
    "    # linear combinatino (logits)\n",
    "    logits = intercept + pm.math.dot(X, coefficients)\n",
    "\n",
    "    # likelihood (Bernoulli)\n",
    "    likelihood = pm.Bernoulli('likelihood', logit_p=logits, observed=y)\n",
    "\n",
    "    # inference (sampling posterior)\n",
    "    trace = pm.sample(1000, tune=1000, target_accept=0.9)"
   ]
  },
  {
   "cell_type": "code",
   "execution_count": null,
   "metadata": {},
   "outputs": [],
   "source": []
  }
 ],
 "metadata": {
  "kernelspec": {
   "display_name": "env",
   "language": "python",
   "name": "python3"
  },
  "language_info": {
   "codemirror_mode": {
    "name": "ipython",
    "version": 3
   },
   "file_extension": ".py",
   "mimetype": "text/x-python",
   "name": "python",
   "nbconvert_exporter": "python",
   "pygments_lexer": "ipython3",
   "version": "3.12.4"
  }
 },
 "nbformat": 4,
 "nbformat_minor": 2
}
